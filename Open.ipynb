{
  "nbformat": 4,
  "nbformat_minor": 0,
  "metadata": {
    "colab": {
      "name": "Open.ipynb",
      "provenance": [],
      "mount_file_id": "1HJsezrUVSrcVny3KPLzrXwJt0IGNaVcN",
      "authorship_tag": "ABX9TyNtdKvvTpD25QhpEsLziWhB",
      "include_colab_link": true
    },
    "kernelspec": {
      "name": "python3",
      "display_name": "Python 3"
    },
    "language_info": {
      "name": "python"
    }
  },
  "cells": [
    {
      "cell_type": "markdown",
      "metadata": {
        "id": "view-in-github",
        "colab_type": "text"
      },
      "source": [
        "<a href=\"https://colab.research.google.com/github/Herais/NLP_Learning_by_Selective_Data/blob/main/Open.ipynb\" target=\"_parent\"><img src=\"https://colab.research.google.com/assets/colab-badge.svg\" alt=\"Open In Colab\"/></a>"
      ]
    },
    {
      "cell_type": "code",
      "metadata": {
        "colab": {
          "base_uri": "https://localhost:8080/"
        },
        "id": "J6SND0npASiN",
        "outputId": "ecb590b2-85bf-4af1-ba91-c531865c3835"
      },
      "source": [
        "# Mount Google Drive\n",
        "from google.colab import drive\n",
        "drive.mount('/content/drive')\n",
        "\n",
        "# Navigate to project directory\n",
        "import os\n",
        "path_github   = '/content/drive/MyDrive/Github'\n",
        "os.chdir(path_github)\n",
        "\n",
        "# git clone\n",
        "#!git clone https://github.com/Herais/NLP_Learning_by_Selective_Data.git\n",
        "path_wd = path_github + '/' + 'NLP_Learning_by_Selective_Data'\n",
        "os.chdir(path_wd)\n",
        "!pwd"
      ],
      "execution_count": 10,
      "outputs": [
        {
          "output_type": "stream",
          "text": [
            "/content/drive/MyDrive/Github\n",
            "/content/drive/MyDrive/Github/NLP_SelectiveTrainingData_Learning\n",
            "/content/drive/MyDrive/Github/NLP_SelectiveTrainingData_Learning\n"
          ],
          "name": "stdout"
        }
      ]
    },
    {
      "cell_type": "code",
      "metadata": {
        "id": "3-lUgX-tsT9Q"
      },
      "source": [
        "# INSTALL REQUIRED Packages"
      ],
      "execution_count": null,
      "outputs": []
    },
    {
      "cell_type": "code",
      "metadata": {
        "colab": {
          "base_uri": "https://localhost:8080/"
        },
        "id": "Xpzb_n4g__-W",
        "outputId": "bcfb46b1-21f4-458f-a97f-e1ce1a963ba1"
      },
      "source": [
        "# LOAD AND EXPLORE DATA\n",
        "\n",
        "# Data Path"
      ],
      "execution_count": null,
      "outputs": [
        {
          "output_type": "stream",
          "text": [
            "NLP_SelectiveTrainingData_Learning  Open.ipynb\n"
          ],
          "name": "stdout"
        }
      ]
    }
  ]
}