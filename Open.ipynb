{
  "nbformat": 4,
  "nbformat_minor": 0,
  "metadata": {
    "colab": {
      "name": "Open.ipynb",
      "provenance": [],
      "collapsed_sections": [],
      "include_colab_link": true
    },
    "kernelspec": {
      "name": "python3",
      "display_name": "Python 3"
    },
    "language_info": {
      "name": "python"
    }
  },
  "cells": [
    {
      "cell_type": "markdown",
      "metadata": {
        "id": "view-in-github",
        "colab_type": "text"
      },
      "source": [
        "<a href=\"https://colab.research.google.com/github/Herais/NLP_Learning_by_Selective_Data/blob/main/Open.ipynb\" target=\"_parent\"><img src=\"https://colab.research.google.com/assets/colab-badge.svg\" alt=\"Open In Colab\"/></a>"
      ]
    },
    {
      "cell_type": "code",
      "metadata": {
        "id": "J6SND0npASiN",
        "colab": {
          "base_uri": "https://localhost:8080/"
        },
        "outputId": "d1987e25-6ffa-4e14-9421-2d7b09a38637"
      },
      "source": [
        "# Mount Google Drive\n",
        "from google.colab import drive\n",
        "drive.mount('/content/drive')\n",
        "\n",
        "# Navigate to project directory\n",
        "import os\n",
        "if not os.path.exists('/content/drive/MyDrive/Github'):\n",
        "  !mkdir Github\n",
        "path_github   = '/content/drive/MyDrive/Github'\n",
        "os.chdir(path_github)\n",
        "\n",
        "# git clone\n",
        "#!git clone https://github.com/Herais/NLP_Learning_by_Selective_Data.git\n",
        "path_wd = path_github + '/' + 'NLP_Learning_by_Selective_Data'\n",
        "os.chdir(path_wd)\n",
        "!pwd\n",
        "\n",
        "# USE GPU FOR TRAINING AND PREDICTION"
      ],
      "execution_count": 1,
      "outputs": [
        {
          "output_type": "stream",
          "text": [
            "Mounted at /content/drive\n",
            "/content/drive/MyDrive/Github/NLP_Learning_by_Selective_Data\n"
          ],
          "name": "stdout"
        }
      ]
    },
    {
      "cell_type": "code",
      "metadata": {
        "id": "3-lUgX-tsT9Q"
      },
      "source": [
        "# INSTALL REQUIRED PACKAGES\n",
        "!pip install -r requirements.txt\n",
        "%tensorflow_version 1.x\n",
        "\n",
        "# Download pretrained BERT model if necesary\n",
        "path_pretrained_model = '/pretrained_model'\n",
        "path_bert_chinese = path_wd + path_pretrained_model + '/chinese_L-12_H-768_A-12'\n",
        "if not os.path.exists(path_bert_chinese):\n",
        " # Download Model\n",
        "  !wget https://storage.googleapis.com/bert_models/2018_11_03/chinese_L-12_H-768_A-12.zip -P './pretrained_model/'\n",
        "  %cd pretrained_model\n",
        "  !unzip chinese_L-12_H-768_A-12.zip\n",
        "  !rm -f chinese_L-12_H-768_A-12.zip\n",
        "  os.chdir(path_wd)\n",
        "  !pwd\n",
        "\n",
        "# Download Trained Weights\n",
        "# 1. model StarChaser\n",
        "# 2. model Scholar \n",
        "# 3. model Knowitall\n",
        "path_models = '/models'\n",
        "if not os.path.exists(path_wd + path_models + 'best_model_StarChaser.weights'):\n",
        "  !wget --load-cookies /tmp/cookies.txt \"https://docs.google.com/uc?export=download&confirm=$(wget --quiet --save-cookies /tmp/cookies.txt --keep-session-cookies --no-check-certificate 'https://docs.google.com/uc?export=download&id=1v8T0-SWwbNYvoV1fMPfq76e-mQPIHpzt' -O- | sed -rn 's/.*confirm=([0-9A-Za-z_]+).*/\\1\\n/p')&id=1v8T0-SWwbNYvoV1fMPfq76e-mQPIHpzt\"  && rm -rf /tmp/cookies.txt -P './models/'\n",
        "if not os.path.exists(path_wd + path_models + 'best_model_Scholar.weights'):\n",
        "  !wget --load-cookies /tmp/cookies.txt \"https://docs.google.com/uc?export=download&confirm=$(wget --quiet --save-cookies /tmp/cookies.txt --keep-session-cookies --no-check-certificate 'https://docs.google.com/uc?export=download&id=10rvkPWHcdQwY4RKeNdpAJ8k7TCuALEn9' -O- | sed -rn 's/.*confirm=([0-9A-Za-z_]+).*/\\1\\n/p')&id=10rvkPWHcdQwY4RKeNdpAJ8k7TCuALEn9\"  && rm -rf /tmp/cookies.txt -P './models/'\n",
        "if not os.path.exists(path_wd + path_models + 'best_model_Knowitall.weights'):\n",
        "  !wget --load-cookies /tmp/cookies.txt \"https://docs.google.com/uc?export=download&confirm=$(wget --quiet --save-cookies /tmp/cookies.txt --keep-session-cookies --no-check-certificate 'https://docs.google.com/uc?export=download&id=1QyDDg3oIXkmQGEhl4wmRZ5M_-1T5hG_t' -O- | sed -rn 's/.*confirm=([0-9A-Za-z_]+).*/\\1\\n/p')&id=1QyDDg3oIXkmQGEhl4wmRZ5M_-1T5hG_t\"  && rm -rf /tmp/cookies.txt -P './models/'"
      ],
      "execution_count": null,
      "outputs": []
    },
    {
      "cell_type": "code",
      "metadata": {
        "id": "Xpzb_n4g__-W"
      },
      "source": [
        "# LOAD AND EXPLORE DATASETS\n",
        "\n",
        "# Import Libaries\n",
        "import numpy as np\n",
        "import pandas as pd\n",
        "\n",
        "# Path\n",
        "path_datasets ='/datasets'\n",
        "\n",
        "# Load Dataset: Movie Title and Summary\n",
        "path_dataset_movie = '/Movie_Title_and_Summary'\n",
        "df_movie = pd.read_json(path_wd + path_datasets + path_dataset_movie + '/train.json', orient='records', lines=True)\n",
        "df_movie.head(10)\n",
        "\n",
        "# Load Dataset: Computer Research Literature (CSL) Title and Abstract\n",
        "path_dataset_csl = '/CSL'\n",
        "df_csl = pd.read_json(path_wd + path_datasets + path_dataset_csl + '/train.json', orient='records', lines=True)\n",
        "df_csl.head(10)"
      ],
      "execution_count": null,
      "outputs": []
    },
    {
      "cell_type": "code",
      "metadata": {
        "id": "cRJEApk43tm-"
      },
      "source": [
        "# SET MODEL PARAMETERS\n",
        "\n",
        "# Set Model Parameter\n",
        "epochs = 10\n",
        "batch_size = 8\n",
        "maxlen = 256\n",
        "topk = 1\n",
        "\n",
        "\n",
        "\n",
        "# Set Pretrained Model Parameters (BERT)\n",
        "config_path = path_wd + path_pretrained_model + '/chinese_L-12_H-768_A-12/bert_config.json'\n",
        "checkpoint_path = path_wd + path_pretrained_model + '/chinese_L-12_H-768_A-12/bert_model.ckpt'\n",
        "dict_path = path_wd + path_pretrained_model + '/chinese_L-12_H-768_A-12/vocab.txt'\n",
        "\n",
        "\n",
        "# Load Vocab\n",
        "from bert4keras.tokenizers import Tokenizer, load_vocab\n",
        "\n",
        "token_dict, keep_tokens = load_vocab(\n",
        "    dict_path=dict_path,\n",
        "    simplified=True,\n",
        "    startswith=['[PAD]', '[UNK]', '[CLS]', '[SEP]'],\n",
        ")\n",
        "tokenizer = Tokenizer(token_dict, do_lower_case=True)"
      ],
      "execution_count": 6,
      "outputs": []
    },
    {
      "cell_type": "code",
      "metadata": {
        "id": "BHCi6ImzT9Zn",
        "colab": {
          "base_uri": "https://localhost:8080/",
          "height": 194
        },
        "outputId": "f0fb5e34-17f0-459d-c20e-146f6e7a1026"
      },
      "source": [
        "# LOAD TRAINED MODELS\n",
        "from tensorflow import keras\n",
        "from bert4keras.models import build_transformer_model\n",
        "\n",
        "path_models = '/models'\n",
        "\n",
        "# the Star Chaser Model trained with movie dataset only\n",
        "model_StarChaser = build_transformer_model(\n",
        "    config_path,\n",
        "    checkpoint_path,\n",
        "    application='unilm',\n",
        "    keep_tokens=keep_tokens,  # include only tokens in keep tokens\n",
        ")\n",
        "model_StarChaser.load_weights(path_wd + path_models + '/best_model_StarChaser.weights')\n",
        "\n",
        "# the Scholar Model trained with Computer Science Literature only\n",
        "model_Scholar = build_transformer_model(\n",
        "    config_path,\n",
        "    checkpoint_path,\n",
        "    application='unilm',\n",
        "    keep_tokens=keep_tokens,   # include only tokens in keep tokens\n",
        ")\n",
        "model_Scholar.load_weights(path_wd + path_models + '/best_model_Scholar.weights')\n",
        "\n",
        "# the Know-it-all Model Trained with both movie and cscl dataset\n",
        "model_Knowitall = build_transformer_model(\n",
        "    config_path,\n",
        "    checkpoint_path,\n",
        "    application='unilm',\n",
        "    keep_tokens=keep_tokens,   # include only tokens in keep tokens\n",
        ") \n",
        "model_Knowitall.load_weights(path_wd + path_models + '/best_model_Knowitall.weights')\n"
      ],
      "execution_count": 4,
      "outputs": [
        {
          "output_type": "stream",
          "text": [
            "Using TensorFlow backend.\n"
          ],
          "name": "stderr"
        },
        {
          "output_type": "stream",
          "text": [
            "WARNING:tensorflow:From /tensorflow-1.15.2/python3.7/tensorflow_core/python/ops/resource_variable_ops.py:1630: calling BaseResourceVariable.__init__ (from tensorflow.python.ops.resource_variable_ops) with constraint is deprecated and will be removed in a future version.\n",
            "Instructions for updating:\n",
            "If using Keras pass *_constraint arguments to layers.\n"
          ],
          "name": "stdout"
        },
        {
          "output_type": "execute_result",
          "data": {
            "application/vnd.google.colaboratory.intrinsic+json": {
              "type": "string"
            },
            "text/plain": [
              "\"\\n# the Scholar Model trained with Computer Science Literature only\\nmodel_Scholar = build_transformer_model(\\n    config_path,\\n    checkpoint_path,\\n    application='unilm',\\n    keep_tokens=keep_tokens,   # include only tokens in keep tokens\\n)\\nmodel_Scholar.load_weights(path_wd + path_models + '/best_model_Scholar.weights')\\n\\n# the Know-it-all Model Trained with both movie and cscl dataset\\nmodel_Knowitall = build_transformer_model(\\n    config_path,\\n    checkpoint_path,\\n    application='unilm',\\n    keep_tokens=keep_tokens,   # include only tokens in keep tokens\\n) \\nmodel_Knowitall.load_weights(path_wd + path_models + '/best_model_Knowitall.weights')\\n\""
            ]
          },
          "metadata": {
            "tags": []
          },
          "execution_count": 4
        }
      ]
    },
    {
      "cell_type": "code",
      "metadata": {
        "id": "zf8FM0X_UqAW",
        "colab": {
          "base_uri": "https://localhost:8080/"
        },
        "outputId": "ea752ec7-c47c-4664-add9-7b68697906e4"
      },
      "source": [
        "# PREDICTION\n",
        "\n",
        "# Load Library\n",
        "from bert4keras.snippets import DataGenerator, AutoRegressiveDecoder\n",
        "\n",
        "# Set Path\n",
        "path_datasets ='/datasets'\n",
        "path_predictions = '/predictions'\n",
        "path_test = path_wd + path_datasets + path_dataset_csl + '/test.json'\n",
        "path_prediction = path_wd + path_predictions + '/Model_StarChaser_predict_CSLTitle.json'\n",
        "\n",
        "# Load Test Data\n",
        "test_data = []\n",
        "with open(path_test, encoding='utf-8') as f:\n",
        "    for l in f:\n",
        "        test_data.append(json.loads(l.strip()))\n",
        "\n",
        "# Decoder: seq2seq\n",
        "class AutoTitle(AutoRegressiveDecoder):\n",
        "    #seq2seq decoder\n",
        "    @AutoRegressiveDecoder.wraps(default_rtype='probas')\n",
        "    def predict(self, inputs, output_ids, states):\n",
        "        token_ids, segment_ids = inputs\n",
        "        token_ids = np.concatenate([token_ids, output_ids], 1)\n",
        "        segment_ids = np.concatenate([segment_ids, np.ones_like(output_ids)], 1)\n",
        "        # Change model name here:\n",
        "        return model_StarChaser.predict([token_ids, segment_ids])[:, -1]\n",
        "\n",
        "    def generate(self, text, topk=1):\n",
        "        max_c_len = maxlen - self.maxlen\n",
        "        token_ids, segment_ids = tokenizer.encode(text, maxlen=max_c_len)\n",
        "        output_ids = self.beam_search([token_ids, segment_ids],\n",
        "                                      topk=topk)  # beam search\n",
        "        return tokenizer.decode(output_ids)\n",
        "\n",
        "autotitle = AutoTitle(start_id=None, end_id=tokenizer._token_end_id, maxlen=32)\n",
        "\n",
        "# Write to Prediction Path\n",
        "with open(path_prediction ,'w') as f:\n",
        "    for data in test_data[:100]:\n",
        "        pred_title = ''.join(autotitle.generate(data[\"abst\"], topk)).lower()\n",
        "        output = {}\n",
        "        output[\"id\"] = data[\"id\"]\n",
        "        output[\"title\"] = pred_title\n",
        "        f.write(json.dumps(output, ensure_ascii = False))\n",
        "        f.write('\\n')"
      ],
      "execution_count": 11,
      "outputs": [
        {
          "output_type": "stream",
          "text": [
            "WARNING:tensorflow:From /tensorflow-1.15.2/python3.7/keras/backend/tensorflow_backend.py:422: The name tf.global_variables is deprecated. Please use tf.compat.v1.global_variables instead.\n",
            "\n"
          ],
          "name": "stdout"
        }
      ]
    },
    {
      "cell_type": "code",
      "metadata": {
        "id": "tTk-bQxYUxn5"
      },
      "source": [
        "# RESULT ANALYSIS"
      ],
      "execution_count": null,
      "outputs": []
    },
    {
      "cell_type": "code",
      "metadata": {
        "id": "j43nGvQiVULh"
      },
      "source": [
        "# TRAIN MORE MODELS\n",
        "# Skip to LOAD TRAINED MODELS to use existing models for prediction\n",
        "\n",
        "# Load Libraries\n",
        "from __future__ import print_function\n",
        "import numpy as np\n",
        "import json\n",
        "from tqdm import tqdm\n",
        "from bert4keras.backend import keras, K\n",
        "from bert4keras.layers import Loss\n",
        "from bert4keras.models import build_transformer_model\n",
        "from bert4keras.tokenizers import Tokenizer, load_vocab\n",
        "from bert4keras.optimizers import Adam\n",
        "from bert4keras.snippets import sequence_padding, open\n",
        "from bert4keras.snippets import DataGenerator, AutoRegressiveDecoder\n",
        "#from tensorflow.keras.models import Model\n",
        "from keras.models import Model\n",
        "from rouge import Rouge  # pip install rouge\n",
        "from nltk.translate.bleu_score import sentence_bleu, SmoothingFunction\n",
        "import model as md\n",
        "import utils\n",
        "\n",
        "# Load train data\n",
        "path_train = path_wd + path_datasets + '/CSL/train.json'\n",
        "path_dev = path_wd + path_datasets + '/CSL/dev.json'\n",
        "train_data = md.load_data(path_train)\n",
        "valid_data = md.load_data(path_dev)\n",
        "# Could use pandas, but pandas has limitation on cell string length\n",
        "\n",
        "# Initialize Model with Pretrained BERT\n",
        "token_dict, keep_tokens = load_vocab(\n",
        "    dict_path=dict_path,\n",
        "    simplified=True,\n",
        "    startswith=['[PAD]', '[UNK]', '[CLS]', '[SEP]'],\n",
        ")\n",
        "tokenizer = Tokenizer(token_dict, do_lower_case=True)\n",
        "model = md.build_transformer_model(\n",
        "    config_path,\n",
        "    checkpoint_path,\n",
        "    application='unilm',\n",
        "    keep_tokens=keep_tokens,  # 只保留keep_tokens中的字，精简原字\n",
        ")\n",
        "\n",
        "autotitle = AutoTitle(start_id=None, end_id=tokenizer._token_end_id, maxlen=32)\n",
        "evaluator = Evaluator()\n",
        "output = CrossEntropy(2)(model.inputs + model.outputs)\n",
        "model = Model(model.inputs, output)\n",
        "train_generator = md.data_generator(train_data, batch_size)\n",
        "model.compile(optimizer=md.Adam(1e-5))\n",
        "#model.summary()\n",
        "\n",
        "model.fit(\n",
        "    train_generator.forfit(),\n",
        "    steps_per_epoch=len(train_generator),\n",
        "    epochs=epochs,\n",
        "    callbacks=[evaluator]\n",
        ")\n",
        "\n",
        "# Save Trained Model\n",
        "path_models = '/models'\n",
        "utils.save_model_with_dt(path_wd + path_models, model, 'new_train_test')"
      ],
      "execution_count": null,
      "outputs": []
    }
  ]
}