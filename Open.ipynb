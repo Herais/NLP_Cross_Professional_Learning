{
  "nbformat": 4,
  "nbformat_minor": 0,
  "metadata": {
    "colab": {
      "name": "Open.ipynb",
      "provenance": [],
      "collapsed_sections": [],
      "include_colab_link": true
    },
    "kernelspec": {
      "name": "python3",
      "display_name": "Python 3"
    },
    "language_info": {
      "name": "python"
    }
  },
  "cells": [
    {
      "cell_type": "markdown",
      "metadata": {
        "id": "view-in-github",
        "colab_type": "text"
      },
      "source": [
        "<a href=\"https://colab.research.google.com/github/Herais/NLP_Learning_by_Selective_Data/blob/main/Open.ipynb\" target=\"_parent\"><img src=\"https://colab.research.google.com/assets/colab-badge.svg\" alt=\"Open In Colab\"/></a>"
      ]
    },
    {
      "cell_type": "code",
      "metadata": {
        "id": "J6SND0npASiN"
      },
      "source": [
        "# Mount Google Drive\n",
        "from google.colab import drive\n",
        "drive.mount('/content/drive')\n",
        "\n",
        "# Navigate to project directory\n",
        "import os\n",
        "if not os.path.exists('/content/drive/MyDrive/Github'):\n",
        "  !mkdir Github\n",
        "path_github   = '/content/drive/MyDrive/Github'\n",
        "os.chdir(path_github)\n",
        "\n",
        "# git clone\n",
        "#!git clone https://github.com/Herais/NLP_Learning_by_Selective_Data.git\n",
        "path_wd = path_github + '/' + 'NLP_Learning_by_Selective_Data'\n",
        "os.chdir(path_wd)\n",
        "!pwd"
      ],
      "execution_count": null,
      "outputs": []
    },
    {
      "cell_type": "code",
      "metadata": {
        "id": "3-lUgX-tsT9Q"
      },
      "source": [
        "# INSTALL REQUIRED PACKAGES\n",
        "!pip install -r requirements.txt\n",
        "%tensorflow_version 1.x"
      ],
      "execution_count": null,
      "outputs": []
    },
    {
      "cell_type": "code",
      "metadata": {
        "id": "Xpzb_n4g__-W"
      },
      "source": [
        "# LOAD AND EXPLORE DATASETS\n",
        "\n",
        "# Import Libaries\n",
        "import numpy as np\n",
        "import pandas as pd\n",
        "\n",
        "# Path\n",
        "path_datasets ='/datasets'\n",
        "\n",
        "# Load Dataset: Movie Title and Summary\n",
        "path_dataset_movie = '/Movie_Title_and_Summary'\n",
        "df_movie = pd.read_json(path_wd + path_datasets + path_dataset_movie + '/train.json', orient='records', lines=True)\n",
        "df_movie.head(10)\n",
        "\n",
        "# Load Dataset: Computer Research Literature (CSL) Title and Abstract\n",
        "path_dataset_csl = '/CSL'\n",
        "df_csl = pd.read_json(path_wd + path_datasets + path_dataset_csl + '/train.json', orient='records', lines=True)\n",
        "df_csl.head(10)"
      ],
      "execution_count": null,
      "outputs": []
    },
    {
      "cell_type": "code",
      "metadata": {
        "id": "cRJEApk43tm-",
        "colab": {
          "base_uri": "https://localhost:8080/"
        },
        "outputId": "fd0527b2-9bba-4009-a4e5-ec02d3c7ea48"
      },
      "source": [
        "# SET MODEL PARAMETERS\n",
        "\n",
        "# Set Model Parameter\n",
        "epochs = 10\n",
        "batch_size = 8\n",
        "maxlen = 256\n",
        "topk = 1\n",
        "\n",
        "# Download pretrained BERT model if necesary\n",
        "path_pretrained_model = '/pretrained_model'\n",
        "path_bert_chinese = path_wd + path_pretrained_model + '/chinese_L-12_H-768_A-12'\n",
        "\n",
        "if not os.path.exists(path_bert_chinese):\n",
        " # Download Model\n",
        "  !wget https://storage.googleapis.com/bert_models/2018_11_03/chinese_L-12_H-768_A-12.zip -P './pretrained_model/'\n",
        "  %cd pretrained_model\n",
        "  !unzip chinese_L-12_H-768_A-12.zip\n",
        "  !rm -f chinese_L-12_H-768_A-12.zip\n",
        "  os.chdir(path_wd)\n",
        "  !pwd\n",
        "\n",
        "# Set Pretrained Model Parameters (BERT)\n",
        "config_path = path_wd + path_pretrained_model + '/chinese_L-12_H-768_A-12/bert_config.json'\n",
        "checkpoint_path = path_wd + path_pretrained_model + '/chinese_L-12_H-768_A-12/bert_model.ckpt'\n",
        "dict_path = path_wd + path_pretrained_model + '/chinese_L-12_H-768_A-12/vocab.txt'\n",
        "\n",
        "\n",
        "# Load Vocab\n",
        "from bert4keras.tokenizers import Tokenizer, load_vocab\n",
        "\n",
        "token_dict, keep_tokens = load_vocab(\n",
        "    dict_path=dict_path,\n",
        "    simplified=True,\n",
        "    startswith=['[PAD]', '[UNK]', '[CLS]', '[SEP]'],\n",
        ")\n",
        "tokenizer = Tokenizer(token_dict, do_lower_case=True)\n",
        "\n"
      ],
      "execution_count": null,
      "outputs": [
        {
          "output_type": "stream",
          "text": [
            "WARNING:tensorflow:From /tensorflow-1.15.2/python3.7/tensorflow_core/python/ops/resource_variable_ops.py:1630: calling BaseResourceVariable.__init__ (from tensorflow.python.ops.resource_variable_ops) with constraint is deprecated and will be removed in a future version.\n",
            "Instructions for updating:\n",
            "If using Keras pass *_constraint arguments to layers.\n"
          ],
          "name": "stdout"
        }
      ]
    },
    {
      "cell_type": "code",
      "metadata": {
        "id": "j43nGvQiVULh"
      },
      "source": [
        "# TRAIN MODELS\n",
        "# Skip to LOAD TRAINED MODELS to use existing models for prediction"
      ],
      "execution_count": null,
      "outputs": []
    },
    {
      "cell_type": "code",
      "metadata": {
        "id": "BHCi6ImzT9Zn"
      },
      "source": [
        "# LOAD TRAINED MODELS\n",
        "from tensorflow import keras\n",
        "from bert4keras.models import build_transformer_model\n",
        "\n",
        "path_models = '/models'\n",
        "\n",
        "# the Star Chaser Model trained with movie dataset only\n",
        "model_StarChaser = build_transformer_model(\n",
        "    config_path,\n",
        "    checkpoint_path,\n",
        "    application='unilm',\n",
        "    keep_tokens=keep_tokens,  # include only tokens in keep tokens\n",
        ")\n",
        "model_StarChaser.load_weights(path_wd + path_models + '/best_model_StarChaser.weights')\n",
        "\n",
        "# the Scholar Model trained with Computer Science Literature only\n",
        "model_Scholar = build_transformer_model(\n",
        "    config_path,\n",
        "    checkpoint_path,\n",
        "    application='unilm',\n",
        "    keep_tokens=keep_tokens,   # include only tokens in keep tokens\n",
        ")\n",
        "model_Scholar.load_weights(path_wd + path_models + '/best_model_Scholar.weights')\n",
        "\n",
        "# the Know-it-all Model Trained with both movie and cscl dataset\n",
        "model_Knowitall = build_transformer_model(\n",
        "    config_path,\n",
        "    checkpoint_path,\n",
        "    application='unilm',\n",
        "    keep_tokens=keep_tokens,   # include only tokens in keep tokens\n",
        ") \n",
        "model_Knowitall.load_weights(path_wd + path_models + '/best_model_Knowitall.weights')"
      ],
      "execution_count": null,
      "outputs": []
    },
    {
      "cell_type": "code",
      "metadata": {
        "id": "AzPal1echjc2"
      },
      "source": [
        "import utils\n",
        "utils.save_model_with_dt(path_wd + path_models, model_Scholar, 'save_test')\n"
      ],
      "execution_count": null,
      "outputs": []
    },
    {
      "cell_type": "code",
      "metadata": {
        "id": "zf8FM0X_UqAW",
        "colab": {
          "base_uri": "https://localhost:8080/"
        },
        "outputId": "b4826866-bff5-45d2-bf9e-1d1ec16ccc5b"
      },
      "source": [
        "# PREDICTION\n",
        "model_Scholar."
      ],
      "execution_count": null,
      "outputs": [
        {
          "output_type": "execute_result",
          "data": {
            "text/plain": [
              "[None, None]"
            ]
          },
          "metadata": {
            "tags": []
          },
          "execution_count": 58
        }
      ]
    },
    {
      "cell_type": "code",
      "metadata": {
        "id": "tTk-bQxYUxn5"
      },
      "source": [
        "# RESULT ANALYSIS"
      ],
      "execution_count": null,
      "outputs": []
    }
  ]
}